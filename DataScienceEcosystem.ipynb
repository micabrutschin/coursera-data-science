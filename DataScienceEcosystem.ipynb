{
 "cells": [
  {
   "cell_type": "markdown",
   "id": "fd9e4345-5f0d-46df-89f2-7805c9b1eb4d",
   "metadata": {},
   "source": [
    "# Data Science Tools and Ecosystem"
   ]
  },
  {
   "cell_type": "markdown",
   "id": "a720f8d0-aa7d-44f3-9463-c0966599c37a",
   "metadata": {},
   "source": [
    "## Author\n",
    "Mica Brutschin"
   ]
  },
  {
   "cell_type": "markdown",
   "id": "85c9dc84-4c3a-49bb-914c-829763004d14",
   "metadata": {},
   "source": [
    "#### In this notebook, Data Science Tools and Ecosystem are summarized."
   ]
  },
  {
   "cell_type": "markdown",
   "id": "c0d48b58-44e6-45c4-b91d-42010f67e46b",
   "metadata": {},
   "source": [
    "**Objectives:**\n",
    "- list some popular languages for data scientists\n",
    "- list some popular libraries used by data scientists\n",
    "- development environment open source tools used in data science\n",
    "- examples of arithmetic expressions in python"
   ]
  },
  {
   "cell_type": "markdown",
   "id": "aac25810-9b1e-4964-9886-41c8034ab05e",
   "metadata": {},
   "source": [
    "Some of the popular languages that Data Scientists use are:\n",
    "1) python\n",
    "2) julia\n",
    "3) R"
   ]
  },
  {
   "cell_type": "markdown",
   "id": "8a82ff9d-3cd5-44d2-9aa1-e44358672f02",
   "metadata": {},
   "source": [
    "Some of the commonly used libraries used by Data Scientists include:\n",
    "1. pandas\n",
    "2. numpy\n",
    "3. matplotlib"
   ]
  },
  {
   "cell_type": "markdown",
   "id": "a94e5221-24e1-4218-a025-2f64a9bb4976",
   "metadata": {},
   "source": [
    "| development environment open source tools used in data science |\n",
    "|:--------:|\n",
    "|  Jupyter Notebook (and Jupyter Lab)   |\n",
    "|  RStudio   |\n",
    "|  Appache Zeppelin   |"
   ]
  },
  {
   "cell_type": "markdown",
   "id": "90af811b-6c63-4d7c-9dc8-78cb4139f8b2",
   "metadata": {},
   "source": [
    "### Below are a few examples of evaluating arithmetic expressions in Python"
   ]
  },
  {
   "cell_type": "code",
   "execution_count": 2,
   "id": "c48b0e79-6119-4ab2-96d1-21f7ab865d24",
   "metadata": {},
   "outputs": [
    {
     "data": {
      "text/plain": [
       "17"
      ]
     },
     "execution_count": 2,
     "metadata": {},
     "output_type": "execute_result"
    }
   ],
   "source": [
    "(3*4)+5  #This a simple arithmetic expression to mutiply then add integers"
   ]
  },
  {
   "cell_type": "code",
   "execution_count": 8,
   "id": "643ec9d8-2f10-4de3-9f78-7eb319b90eb2",
   "metadata": {},
   "outputs": [
    {
     "data": {
      "text/plain": [
       "3.3333333333333335"
      ]
     },
     "execution_count": 8,
     "metadata": {},
     "output_type": "execute_result"
    }
   ],
   "source": [
    "#This will convert 200 minutes to hours by diving by 60\n",
    "\n",
    "minutes_per_hour = 60 \n",
    "\n",
    "200 / minutes_per_hour"
   ]
  },
  {
   "cell_type": "code",
   "execution_count": null,
   "id": "deb0eb51-61ad-4e20-bcc4-bfbb171da2f9",
   "metadata": {},
   "outputs": [],
   "source": []
  }
 ],
 "metadata": {
  "kernelspec": {
   "display_name": "Python 3 (ipykernel)",
   "language": "python",
   "name": "python3"
  },
  "language_info": {
   "codemirror_mode": {
    "name": "ipython",
    "version": 3
   },
   "file_extension": ".py",
   "mimetype": "text/x-python",
   "name": "python",
   "nbconvert_exporter": "python",
   "pygments_lexer": "ipython3",
   "version": "3.9.13"
  }
 },
 "nbformat": 4,
 "nbformat_minor": 5
}
